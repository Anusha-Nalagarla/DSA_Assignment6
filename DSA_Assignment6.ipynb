{
 "cells": [
  {
   "cell_type": "markdown",
   "id": "f78ff46f",
   "metadata": {},
   "source": [
    "A permutation perm of n + 1 integers of all the integers in the range [0, n] can be represented as a string s of length n where:\n",
    "•\ts[i] == 'I' if perm[i] < perm[i + 1], and\n",
    "•\ts[i] == 'D' if perm[i] > perm[i + 1].\n",
    "Given a string s, reconstruct the permutation perm and return it. If there are multiple valid permutations perm, return any of them.\n"
   ]
  },
  {
   "cell_type": "code",
   "execution_count": 3,
   "id": "a48b2615",
   "metadata": {},
   "outputs": [
    {
     "data": {
      "text/plain": [
       "[0, 4, 1, 3, 2]"
      ]
     },
     "execution_count": 3,
     "metadata": {},
     "output_type": "execute_result"
    }
   ],
   "source": [
    "def Q1(s):\n",
    "    a=0\n",
    "    b=len(s)\n",
    "    l=[]\n",
    "    for i in s:\n",
    "        if i==\"I\":\n",
    "            l.append(a)\n",
    "            a+=1\n",
    "        else:\n",
    "            l.append(b)\n",
    "            b-=1\n",
    "    return l+[b]\n",
    "Q1(\"IDID\")"
   ]
  },
  {
   "cell_type": "markdown",
   "id": "d8b17561",
   "metadata": {},
   "source": [
    "Question 2\n",
    "You are given an m x n integer matrix matrix with the following two properties:\n",
    "•\tEach row is sorted in non-decreasing order.\n",
    "•\tThe first integer of each row is greater than the last integer of the previous row.\n",
    "Given an integer target, return true if target is in matrix or false otherwise.\n"
   ]
  },
  {
   "cell_type": "code",
   "execution_count": 4,
   "id": "61cab27b",
   "metadata": {},
   "outputs": [
    {
     "data": {
      "text/plain": [
       "True"
      ]
     },
     "execution_count": 4,
     "metadata": {},
     "output_type": "execute_result"
    }
   ],
   "source": [
    "def Q2(matrix, target):\n",
    "        m, n = len(matrix), len(matrix[0])\n",
    "        i, j = m - 1, 0\n",
    "        while i >= 0 and j < n:\n",
    "            if matrix[i][j] == target:\n",
    "                return True\n",
    "            if matrix[i][j] > target:\n",
    "                i -= 1\n",
    "            else:\n",
    "                j += 1\n",
    "        return False\n",
    "Q2([[1,3,5,7],[10,11,16,20],[23,30,34,60]], 3)"
   ]
  },
  {
   "cell_type": "markdown",
   "id": "5e338d98",
   "metadata": {},
   "source": [
    "Question 3\n",
    "Given an array of integers arr, return true if and only if it is a valid mountain array.\n",
    "Recall that arr is a mountain array if and only if:\n",
    "•\tarr.length >= 3\n",
    "•\tThere exists some i with 0 < i < arr.length - 1 such that: \n",
    "o\tarr[0] < arr[1] < ... < arr[i - 1] < arr[i]\n",
    "o\tarr[i] > arr[i + 1] > ... > arr[arr.length - 1] "
   ]
  },
  {
   "cell_type": "code",
   "execution_count": 5,
   "id": "6c6a61fe",
   "metadata": {},
   "outputs": [
    {
     "data": {
      "text/plain": [
       "False"
      ]
     },
     "execution_count": 5,
     "metadata": {},
     "output_type": "execute_result"
    }
   ],
   "source": [
    "def Q3(arr):\n",
    "    n=len(arr)\n",
    "    if(n<3):\n",
    "     return False\n",
    "     i = 1\n",
    "    while(i<n and arr[i]>arr[i-1]):\n",
    "     i+=1\n",
    "    if(i==1 or i==n):\n",
    "     return False\n",
    "    while(i<n and arr[i]<arr[i-1]):\n",
    "     i+=1\n",
    "    return i==n\n",
    "Q3([2,1])"
   ]
  },
  {
   "cell_type": "markdown",
   "id": "97ab4f23",
   "metadata": {},
   "source": [
    "Question 4\n",
    "Given a binary array nums, return the maximum length of a contiguous subarray with an equal number of 0 and 1."
   ]
  },
  {
   "cell_type": "code",
   "execution_count": 6,
   "id": "4169f6c4",
   "metadata": {},
   "outputs": [
    {
     "data": {
      "text/plain": [
       "2"
      ]
     },
     "execution_count": 6,
     "metadata": {},
     "output_type": "execute_result"
    }
   ],
   "source": [
    "def Q4(nums):\n",
    "    maxlen = 0\n",
    "    for start in range(0, len(nums)):\n",
    "        zeroes = 0\n",
    "        ones = 0\n",
    "        for end in range(start, len(nums)):\n",
    "            if nums[end] == 0:\n",
    "                zeroes += 1\n",
    "            else:\n",
    "                ones += 1\n",
    " \n",
    "            if zeroes == ones:\n",
    "                maxlen = max(maxlen, end - start + 1)\n",
    " \n",
    "    return maxlen\n",
    "Q4(nums = [0,1])"
   ]
  },
  {
   "cell_type": "markdown",
   "id": "b97421bf",
   "metadata": {},
   "source": [
    "Question 5\n",
    "The product sum of two equal-length arrays a and b is equal to the sum of a[i] * b[i] for all 0 <= i < a.length (0-indexed).\n",
    "•\tFor example, if a = [1,2,3,4] and b = [5,2,3,1], the product sum would be 15 + 22 + 33 + 41 = 22.\n",
    "Given two arrays nums1 and nums2 of length n, return the minimum product sum if you are allowed to rearrange the order of the elements in nums1.\n"
   ]
  },
  {
   "cell_type": "code",
   "execution_count": null,
   "id": "4759f0bc",
   "metadata": {},
   "outputs": [],
   "source": [
    "def Q5(nums1, nums2):\n",
    "    s,i,j=0,0,len(nums2)-1\n",
    "    nums1.sort()\n",
    "    nums2.sort()       \n",
    "    while(i < len(nums1) and j >= 0):\n",
    "        s += nums1[i] * nums2[j]\n",
    "        i+1\n",
    "        j-1\n",
    "    return s\n",
    "Q5([5,3,4,2], [4,2,2,5])"
   ]
  },
  {
   "cell_type": "markdown",
   "id": "7ff7d266",
   "metadata": {},
   "source": [
    "Question 6\n",
    "An integer array original is transformed into a doubled array changed by appending twice the value of every element in original, and then randomly shuffling the resulting array.\n",
    "Given an array changed, return original if changed is a doubled array. If changed is not a doubled array, return an empty array. The elements in original may be returned in any order."
   ]
  },
  {
   "cell_type": "code",
   "execution_count": null,
   "id": "98e22f19",
   "metadata": {},
   "outputs": [],
   "source": [
    "def Q6(arr):\n",
    "    num = {}\n",
    "    for i in range(0, len(arr)):\n",
    "        if (arr[i] in num):\n",
    "            num[arr[i]] += 1\n",
    "        else:\n",
    "            num[arr[i]] = 1\n",
    "    arr.sort()\n",
    "    res = []\n",
    "    for i in range(0, len(arr)):\n",
    "        freq = num[arr[i]]\n",
    "        if (freq > 0):\n",
    "            res.append(arr[i])\n",
    "            num[arr[i]] -= 1\n",
    "            twice = 2 * arr[i]\n",
    "            num[twice] -= 1\n",
    "    return res\n",
    "Q6([1,3,4,2,6,8])"
   ]
  },
  {
   "cell_type": "markdown",
   "id": "5d5296d2",
   "metadata": {},
   "source": [
    "Question 7\n",
    "Given a positive integer n, generate an n x n matrix filled with elements from 1 to n2 in spiral order."
   ]
  },
  {
   "cell_type": "code",
   "execution_count": null,
   "id": "50ec2f36",
   "metadata": {},
   "outputs": [],
   "source": [
    "def Q7(n):\n",
    "    m = n\n",
    "    k, l, value = 0, 0, 1\n",
    "    result = [[None] * n for i in range(n)]\n",
    "    while k < m and l < n:\n",
    "        for i in range(l, n):\n",
    "            result[k][i] = value\n",
    "            value += 1\n",
    "        k += 1\n",
    "        for i in range(k, m):\n",
    "            result[i][n - 1] = value\n",
    "            value += 1\n",
    "        n -= 1\n",
    "        for i in range(n - 1, l - 1, -1):\n",
    "            result[m - 1][i] = value\n",
    "            value += 1\n",
    "        m -= 1\n",
    "        for i in range(m - 1, k - 1, -1):\n",
    "            result[i][l] = value\n",
    "            value += 1\n",
    "        l += 1\n",
    "    return result\n",
    "\n",
    "Q7(3)"
   ]
  },
  {
   "cell_type": "markdown",
   "id": "0ba66f29",
   "metadata": {},
   "source": [
    "Question 8\n",
    "Given two sparse matrices mat1 of size m x k and mat2 of size k x n, return the result of mat1 x mat2. You may assume that multiplication is always possible."
   ]
  },
  {
   "cell_type": "code",
   "execution_count": null,
   "id": "a858e7f1",
   "metadata": {},
   "outputs": [],
   "source": [
    "def Q8(mat1 mat2):\n",
    "        r1, c1, c2 = len(mat1), len(mat1[0]), len(mat2[0])\n",
    "        res = [[0] * c2 for _ in range(r1)]\n",
    "        for i in range(r1):\n",
    "            for j in range(c2):\n",
    "                for k in range(c1):\n",
    "                    res[i][j] += mat1[i][k] * mat2[k][j]\n",
    "        return res\n",
    "Q8([[1,0,0],[-1,0,3]],[[7,0,0],[0,0,0],[0,0,1]])"
   ]
  },
  {
   "cell_type": "code",
   "execution_count": null,
   "id": "6eed22ff",
   "metadata": {},
   "outputs": [],
   "source": []
  }
 ],
 "metadata": {
  "kernelspec": {
   "display_name": "Python 3 (ipykernel)",
   "language": "python",
   "name": "python3"
  },
  "language_info": {
   "codemirror_mode": {
    "name": "ipython",
    "version": 3
   },
   "file_extension": ".py",
   "mimetype": "text/x-python",
   "name": "python",
   "nbconvert_exporter": "python",
   "pygments_lexer": "ipython3",
   "version": "3.9.12"
  }
 },
 "nbformat": 4,
 "nbformat_minor": 5
}
